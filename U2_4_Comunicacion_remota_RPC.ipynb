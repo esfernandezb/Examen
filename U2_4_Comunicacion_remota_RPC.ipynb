{
  "nbformat": 4,
  "nbformat_minor": 0,
  "metadata": {
    "colab": {
      "name": "U2-4-Comunicacion remota-RPC.ipynb",
      "provenance": [],
      "include_colab_link": true
    },
    "kernelspec": {
      "name": "python3",
      "display_name": "Python 3"
    },
    "language_info": {
      "name": "python"
    }
  },
  "cells": [
    {
      "cell_type": "markdown",
      "metadata": {
        "id": "view-in-github",
        "colab_type": "text"
      },
      "source": [
        "<a href=\"https://colab.research.google.com/github/esfernandezb/Examen/blob/main/U2_4_Comunicacion_remota_RPC.ipynb\" target=\"_parent\"><img src=\"https://colab.research.google.com/assets/colab-badge.svg\" alt=\"Open In Colab\"/></a>"
      ]
    },
    {
      "cell_type": "markdown",
      "source": [
        "# RPC\n",
        "\n",
        "La facilidad de RPC usa un esquema de pasaje de mensajes para intercambiar información entre los procesos llamados (proceso cliente) y llamado (proceso servidor). Normalmente el proceso servidor duerme, esperando la llegada de un mensaje de requerimiento. El proceso cliente se bloquea cuando envía el mensaje de requerimiento hasta recibir la respuesta.\n",
        "Existen diversas formas de implementar RPC. Vamos a revisar las mas usadas:"
      ],
      "metadata": {
        "id": "nW0AwQsSqrin"
      }
    },
    {
      "cell_type": "markdown",
      "source": [
        "Referencias:\n",
        "\n",
        "https://stackoverflow.com/questions/1879971/what-is-the-current-choice-for-doing-rpc-in-python\n",
        "\n",
        "RPC simple\n",
        "\n",
        "https://docs.python.org/es/3/library/xmlrpc.client.html\n",
        "\n",
        "https://rico-schmidt.name/pymotw-3/xmlrpc.server/index.html\n",
        "\n",
        "https://tldp.org/HOWTO/XML-RPC-HOWTO/xmlrpc-howto-competition.html\n",
        "\n",
        "RPyC\n",
        "\n",
        "https://rpyc.readthedocs.io/en/latest/tutorial/tut1.html\n",
        "\n",
        "https://code-maven.com/rpc-with-python-using-rpyc\n",
        "\n"
      ],
      "metadata": {
        "id": "QktkJaJGrT2a"
      }
    },
    {
      "cell_type": "markdown",
      "source": [
        "## RPC simple\n",
        "\n",
        "XML-RPC es la forma mas sencilla y clasica de realizar comunicacion RPC. Actualmente es muy insegura, por lo que se recomienda realizar pruebas en un entorno con elementos agregados de seguridad.\n",
        "Pirmero empezamos configurando variables iniciales."
      ],
      "metadata": {
        "id": "HzBanH2EubW4"
      }
    },
    {
      "cell_type": "code",
      "metadata": {
        "id": "z3RTMv9IYTyx"
      },
      "source": [
        "run_thread = True\n",
        "first_time = True\n",
        "server = None"
      ],
      "execution_count": null,
      "outputs": []
    },
    {
      "cell_type": "markdown",
      "source": [
        "Definidos nuestro servidor RPC de la siguiente manera:\n",
        "*  La funcion list_contents devuelve una lista de directorios que se encuentran dentro del servidor donde se esta realizando la peticion\n",
        "* La funcion run_server es iniciar el servidor. El modulo SimpleXMLRPCServer me permite realizar esta accion con dos parametros: el destino y el puerto de conexion. El parametro logRequest permite recibir las peticiones tipo log por parte del cliente. La funcion register_function debe estar registrada en nuestro objeto serverRPC para que pueda ejecutarse. Luego de ello viene la ejecucion.\n",
        "* Las funciones stop_server y start_server funcionan de manera similar como en el ejemplo de comunicacion directa con sockets."
      ],
      "metadata": {
        "id": "g_QqaGJ30A2k"
      }
    },
    {
      "cell_type": "code",
      "metadata": {
        "id": "Xnn2TC9MBwi6"
      },
      "source": [
        "from xmlrpc.server import SimpleXMLRPCServer\n",
        "import logging\n",
        "import os\n",
        "from multiprocessing import Process\n",
        "\n",
        "def list_contents(dir_name):\n",
        "    logging.info('list_contents(%s)', dir_name)\n",
        "    return os.listdir(dir_name)\n",
        "\n",
        "def run_server():\n",
        "  logging.basicConfig(level=logging.INFO)\n",
        "\n",
        "  serverRPC = SimpleXMLRPCServer(\n",
        "      ('localhost', 9000),\n",
        "      logRequests=True,\n",
        "  )\n",
        "\n",
        "  serverRPC.register_function(list_contents)\n",
        "  print('The server is ready to receive')\n",
        "  while 1:\n",
        "      try:\n",
        "          print('Use Control-C to exit')\n",
        "          serverRPC.serve_forever()\n",
        "      except KeyboardInterrupt:\n",
        "          print('Exiting')\n",
        "\n",
        "def stop_server():\n",
        "  global server\n",
        "  if server is not None:\n",
        "    server.terminate()\n",
        "    server.join()\n",
        "\n",
        "def start_server(run_thread):\n",
        "  global server\n",
        "  if run_thread:\n",
        "    server = Process(target=run_server)\n",
        "    server.start()\n",
        "  else:\n",
        "    run_server()"
      ],
      "execution_count": null,
      "outputs": []
    },
    {
      "cell_type": "markdown",
      "source": [
        "Iniciamos nuestro servidor."
      ],
      "metadata": {
        "id": "HbUO7GCE1UNw"
      }
    },
    {
      "cell_type": "code",
      "metadata": {
        "id": "ID6Ooc9O-fOl",
        "outputId": "7f3dda65-e5e1-4441-c0b2-d1101125cbe9",
        "colab": {
          "base_uri": "https://localhost:8080/"
        }
      },
      "source": [
        "stop_server()\n",
        "start_server(run_thread)\n",
        "run_thread = False"
      ],
      "execution_count": null,
      "outputs": [
        {
          "output_type": "stream",
          "name": "stdout",
          "text": [
            "The server is ready to receive\n",
            "Use Control-C to exit\n"
          ]
        }
      ]
    },
    {
      "cell_type": "markdown",
      "source": [
        "Ejecutamos el cliente. Observe el resultado. Que conclusiones podemos obtener? que pasaria si ejecutamos este codigo en otro entorno?"
      ],
      "metadata": {
        "id": "x8lEmuCd1XOw"
      }
    },
    {
      "cell_type": "code",
      "source": [
        "import xmlrpc.client\n",
        "\n",
        "proxy = xmlrpc.client.ServerProxy('http://localhost:9000')\n",
        "print(proxy.list_contents('/tmp'))"
      ],
      "metadata": {
        "colab": {
          "base_uri": "https://localhost:8080/"
        },
        "id": "5x0GJ_GdsmFg",
        "outputId": "86279096-dc4b-43e3-9dd7-35419c5904bb"
      },
      "execution_count": null,
      "outputs": [
        {
          "output_type": "stream",
          "name": "stdout",
          "text": [
            "['python-languageserver-cancellation', 'initgoogle_syslog_dir.0', 'dap_multiplexer.367014a92ca6.root.log.INFO.20220620-235642.42', 'debugger_1n5wbwezny', 'dap_multiplexer.INFO', 'pyright-95-esvyNNrPfLrM', 'pyright-95-gEXbDKrh0uvl']\n"
          ]
        }
      ]
    },
    {
      "cell_type": "markdown",
      "source": [
        "##RPyC\n",
        "\n"
      ],
      "metadata": {
        "id": "JZDOxq4t86Nb"
      }
    },
    {
      "cell_type": "markdown",
      "source": [
        "RPyC provee metodos de comunicacion remota basados en Python. \n",
        "\n",
        "En ambas máquinas necesitamos tener instalado Python y el paquete RPyC. En el servidor necesitamos lanzar un proceso antes de poder comunicarnos con él. La ventaja es que funciona en los 3 principales sistemas operativos: Linux, Mac OSX, y MS Windows, y se puede hacer RPyC entre máquinas que corren diferentes OS.\n",
        "\n",
        "Primero procedemos con la instalacion de la libreria."
      ],
      "metadata": {
        "id": "Ll0d9vLp-4qF"
      }
    },
    {
      "cell_type": "code",
      "source": [
        "!pip install rpyc"
      ],
      "metadata": {
        "colab": {
          "base_uri": "https://localhost:8080/"
        },
        "id": "c3roQfUY_t0t",
        "outputId": "bdc6bde4-753c-4325-d4d7-0c4048b8b669"
      },
      "execution_count": null,
      "outputs": [
        {
          "output_type": "stream",
          "name": "stdout",
          "text": [
            "Looking in indexes: https://pypi.org/simple, https://us-python.pkg.dev/colab-wheels/public/simple/\n",
            "Collecting rpyc\n",
            "  Downloading rpyc-5.1.0-py3-none-any.whl (69 kB)\n",
            "\u001b[K     |████████████████████████████████| 69 kB 6.8 MB/s \n",
            "\u001b[?25hCollecting plumbum\n",
            "  Downloading plumbum-1.7.2-py2.py3-none-any.whl (117 kB)\n",
            "\u001b[K     |████████████████████████████████| 117 kB 62.6 MB/s \n",
            "\u001b[?25hInstalling collected packages: plumbum, rpyc\n",
            "Successfully installed plumbum-1.7.2 rpyc-5.1.0\n"
          ]
        }
      ]
    },
    {
      "cell_type": "markdown",
      "source": [
        "### Implementacion clasica\n",
        "\n",
        "Existe una implementacion clasica y otra moderna del codigo de la libreria. Revisemos la clasica primero. Podemos iniciar un servidor de forma sencilla con la siguiente linea de codigo."
      ],
      "metadata": {
        "id": "XOlQ8gty_0dX"
      }
    },
    {
      "cell_type": "code",
      "source": [
        "!python rpyc_classic.py localhost"
      ],
      "metadata": {
        "id": "QDxLRxDvAFqg"
      },
      "execution_count": null,
      "outputs": []
    },
    {
      "cell_type": "markdown",
      "source": [
        "El problema con el entorno de Colab es que no es sencillo acceder al entorno virtual de Python. En este caso trabajaremos en una maquina local. Solo basta ubicar donde esta el script y ejecutarlo con el comando escrito arriba.\n",
        "\n",
        "El resultado se vera de la siguiente manera:\n",
        "\n",
        "INFO:SLAVE/18812:server started on [127.0.0.1]:18812\n",
        "\n",
        "En donde:\n",
        "This shows the parameters this server is running with:\n",
        "\n",
        "* SLAVE indica el SlaveService\n",
        "* [127.0.0.1]:18812 es la direccion de donde se aceptan conexiones, en este caso, solo seran del localhost. Si se inicia un servidor con --host 0.0.0.0, se podran ejecutar peticiones de cualquier lado."
      ],
      "metadata": {
        "id": "L2azf780B9IA"
      }
    },
    {
      "cell_type": "markdown",
      "source": [
        "Ya con esto, podemos empezar a ejecutar ordenes en nuestro servidor. El siguiente script es un ejemplo sencillo de interaccion."
      ],
      "metadata": {
        "id": "9DlmOTWWG6r9"
      }
    },
    {
      "cell_type": "code",
      "source": [
        "# rpyc_modules.py\n",
        "\n",
        "import rpyc\n",
        "import sys\n",
        "\n",
        "# Si no envio parametros, se mostrara el siguiente mensaje con el nombre del script\n",
        "if len(sys.argv) < 2:\n",
        "   exit(\"Usage {} SERVER\".format(sys.argv[0]))\n",
        " \n",
        "server = sys.argv[1]\n",
        "\n",
        "# Para ejecutarlo debo enviar la direccion de conexion\n",
        "# Ejemplo: python rpyc_modules.py localhost\n",
        "# Primero realizamos la conexion al servidor remoto\n",
        "conn = rpyc.classic.connect(server)\n",
        "\n",
        "# Con la conexion realizada, procedemos a ejecutar comandos en el servidor\n",
        "# Podemos adjuntar un nombre local a un objeto Python remoto. Por ejemplo, esta línea conecta el nombre rsys en nuestro cliente con el objeto sys en el servidor. (Importa automáticamente el módulo sys en el servidor).\n",
        "rsys = conn.modules.sys\n",
        "\n",
        "# Una vez que hemos hecho esa llamada podemos usar rsys en el cliente igual como usaríamos el sys en el servidor. Por ejemplo podemos acceder a sus atributos e imprimirlos en la consola del cliente:\n",
        "print(rsys.version)\n",
        "\n",
        "# Podemos hacer lo mismo con el modulo os\n",
        "ros = conn.modules.os\n",
        "print('Name: ', ros.name)"
      ],
      "metadata": {
        "id": "RKNVYWxlFuTp"
      },
      "execution_count": null,
      "outputs": []
    },
    {
      "cell_type": "markdown",
      "source": [
        "El siguiente codigo me permite manejar variables entre un cliente y un servidor"
      ],
      "metadata": {
        "id": "cm_1ouV6JG7m"
      }
    },
    {
      "cell_type": "code",
      "source": [
        "# rpyc_variables.py\n",
        "\n",
        "import rpyc\n",
        "import sys\n",
        " \n",
        "if len(sys.argv) < 2:\n",
        "   exit(\"Usage {} SERVER\".format(sys.argv[0]))\n",
        " \n",
        "server = sys.argv[1]\n",
        " \n",
        "conn = rpyc.classic.connect(server)\n",
        "# execute ejecutara un codigo en el servidor\n",
        "# aqui solo creamos una variable y le cambiamos su valor\n",
        "conn.execute('x = 21')\n",
        "conn.execute('x *= 2')\n",
        "print(conn.eval('x'))     # 42\n",
        "\n",
        "# podemos hacer lo mismo con estructuras de datos\n",
        "conn.execute('scores = { \"Foo\" : 10 }')\n",
        "conn.execute('scores[\"Foo\"] += 1')\n",
        "conn.execute('scores[\"Bar\"] = 42')\n",
        " \n",
        "# eval me permite copiar un elemento al cliente\n",
        "local_scores = conn.eval('scores')\n",
        "print(local_scores)         # {'Foo': 11, 'Bar': 42}\n",
        "print(local_scores['Foo'])  # 11\n",
        " \n",
        "# namespace me permite usar elementos en la maquina remota. Se esta tomando la llave del diccionario y modificando uno de sus valores.\n",
        "conn.namespace[\"scores\"][\"Bar\"] += 58\n",
        "print(conn.eval('scores'))  # {'Foo': 11, 'Bar': 100}\n",
        "\n",
        "print(local_scores)\n"
      ],
      "metadata": {
        "id": "qrkqCI9fMesv"
      },
      "execution_count": null,
      "outputs": []
    },
    {
      "cell_type": "markdown",
      "source": [
        "El siguiente codigo se maneja como un script completo. Vamos a ejecutarlo en el servidor y recibir una respuesta desde el cliente. Iniciamos con el script a ejecutar, el cual presenta el resultado de una serie de Fibonacci."
      ],
      "metadata": {
        "id": "43XBACtgM3xx"
      }
    },
    {
      "cell_type": "code",
      "source": [
        "# rpyc_remote_code.py\n",
        "# Calculo sencillo de una serie de Fibonacci\n",
        "\n",
        "def fib(n):\n",
        "    if n == 1:\n",
        "        return [1]\n",
        "    if n == 2:\n",
        "        return [1, 1]\n",
        " \n",
        "    values = [1, 1]\n",
        "    for _ in range(2, n):\n",
        "        values.append(values[-1] + values[-2])\n",
        "    return values"
      ],
      "metadata": {
        "id": "l62o5LMLNNWh"
      },
      "execution_count": null,
      "outputs": []
    },
    {
      "cell_type": "markdown",
      "source": [
        "La funcion devuelve un arreglo con los resultados de la serie."
      ],
      "metadata": {
        "id": "c6Nv9dA7j3IW"
      }
    },
    {
      "cell_type": "code",
      "source": [
        "fib(8)"
      ],
      "metadata": {
        "colab": {
          "base_uri": "https://localhost:8080/"
        },
        "id": "YoHUnhVrNORa",
        "outputId": "55df2490-539a-47dd-a00f-e1bb69bc5e5b"
      },
      "execution_count": null,
      "outputs": [
        {
          "output_type": "execute_result",
          "data": {
            "text/plain": [
              "[1, 1, 2, 3, 5, 8, 13, 21]"
            ]
          },
          "metadata": {},
          "execution_count": 9
        }
      ]
    },
    {
      "cell_type": "markdown",
      "source": [
        "Esta funcion se debe guardar en un script y almacenarlo en el servidor. EL codigo que ejecuta el script debe encontrarse en la misma ruta. Este codigo es el siguiente:"
      ],
      "metadata": {
        "id": "ZQhXAQa5j7U6"
      }
    },
    {
      "cell_type": "code",
      "source": [
        "import rpyc\n",
        "import sys\n",
        "\n",
        "if len(sys.argv) < 2:\n",
        "   exit(\"Usage {} SERVER\".format(sys.argv[0]))\n",
        "\n",
        "server = sys.argv[1]\n",
        "\n",
        "filename = 'rpyc_remote_code.py'\n",
        "\n",
        "conn = rpyc.classic.connect(server)\n",
        "with open(filename) as fh:\n",
        "    my_code = fh.read()\n",
        "    conn.execute(my_code)\n",
        "\n",
        "rfib = conn.namespace['fib']\n",
        "print(rfib(1))  # [1]\n",
        "print(rfib(2))  # [1, 1]\n",
        "print(rfib(5))  # [1, 1, 2, 3, 5]"
      ],
      "metadata": {
        "id": "XHeko5swkkyi"
      },
      "execution_count": null,
      "outputs": []
    },
    {
      "cell_type": "markdown",
      "source": [
        "### Implementacion moderna"
      ],
      "metadata": {
        "id": "SFwkpbcglTP6"
      }
    },
    {
      "cell_type": "markdown",
      "source": [
        "La implementacion moderna esta basada en servicios. En el modo clásico, el cliente obtiene básicamente el control total sobre el servidor. Los servicios proporcionan una manera de exponer un conjunto bien definido de capacidades a la otra parte, lo que hace de RPyC una plataforma RPC genérica.\n",
        "\n",
        "Los servicios son muy sencillos. Observe la siguiente clase, que nota en ella?"
      ],
      "metadata": {
        "id": "bAi49kPHlVgY"
      }
    },
    {
      "cell_type": "code",
      "source": [
        "# rpyc_base.py\n",
        "import rpyc\n",
        "\n",
        "class MyService(rpyc.Service):\n",
        "    def on_connect(self, conn):\n",
        "        # code that runs when a connection is created\n",
        "        # (to init the service, if needed)\n",
        "        pass\n",
        "\n",
        "    def on_disconnect(self, conn):\n",
        "        # code that runs after the connection has already closed\n",
        "        # (to finalize the service, if needed)\n",
        "        pass\n",
        "\n",
        "    def exposed_get_answer(self): # this is an exposed method\n",
        "        return 42\n",
        "\n",
        "    exposed_the_real_answer_though = 43     # an exposed attribute\n",
        "\n",
        "    def get_question(self):  # while this method is not exposed\n",
        "        return \"¿cuál es la velocidad de una golondrina sin que lleve peso?\"\n",
        "\n",
        "from rpyc.utils.server import ThreadedServer\n",
        "t = ThreadedServer(MyService, port=18861)\n",
        "t.start()"
      ],
      "metadata": {
        "id": "gWieLLCnlV2i"
      },
      "execution_count": null,
      "outputs": []
    },
    {
      "cell_type": "markdown",
      "source": [
        "Como pueden ver, aparte de los métodos especiales de inicialización/finalización, hay libertad de definir la clase como cualquier otra clase. Sin embargo, a diferencia de las clases normales, pueden elegir qué atributos serán expuestos a la otra parte: si el nombre comienza con exposed_, el atributo será accesible remotamente, de lo contrario, sólo será accesible localmente.\n",
        "\n",
        "El siguiente codigo realiza consumos al servicio. "
      ],
      "metadata": {
        "id": "DY8TjF1dwG8y"
      }
    },
    {
      "cell_type": "code",
      "source": [
        "# rpyc_consulta_base.py\n",
        "import rpyc\n",
        "import sys\n",
        "\n",
        "if len(sys.argv) < 2:\n",
        "   exit(\"Usage {} SERVER\".format(sys.argv[0]))\n",
        " \n",
        "server = sys.argv[1]\n",
        "\n",
        "# La conexion se realiza por el servicio creado en el script\n",
        "conn = rpyc.connect(server, 18861)\n",
        "\n",
        "# El servicio es expuesto como la raiz del objeto conexion\n",
        "print(conn.root)\n",
        "\n",
        "# Este objeto raiz es una referencia a la instancia del servicio que esta ejecutandose en el servidor. Esta puede ser accesada  por el usuario e invocar sus atributos y metodos.\n",
        "print(conn.root.get_answer())\n",
        "print(conn.root.the_real_answer_though)\n",
        "\n",
        "# Este metodo no puede ser accedido\n",
        "print(conn.root.get_question())"
      ],
      "metadata": {
        "id": "PWl-33j9slbz"
      },
      "execution_count": null,
      "outputs": []
    },
    {
      "cell_type": "markdown",
      "source": [
        "Con esto ya estamos consumiento el servicio con el objeto. Como hariamos para ejecutar un script en otro archivo?"
      ],
      "metadata": {
        "id": "AQ0blhIZDnhL"
      }
    }
  ]
}